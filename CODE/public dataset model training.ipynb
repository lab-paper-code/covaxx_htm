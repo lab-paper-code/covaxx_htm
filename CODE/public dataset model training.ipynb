{
 "cells": [
  {
   "cell_type": "code",
   "execution_count": null,
   "id": "5c3bed9f",
   "metadata": {},
   "outputs": [
    {
     "name": "stderr",
     "output_type": "stream",
     "text": [
      "2024-11-19 14:49:15.591738: I tensorflow/core/platform/cpu_feature_guard.cc:182] This TensorFlow binary is optimized to use available CPU instructions in performance-critical operations.\n",
      "To enable the following instructions: AVX2 FMA, in other operations, rebuild TensorFlow with the appropriate compiler flags.\n",
      "2024-11-19 14:49:16.874511: W tensorflow/compiler/tf2tensorrt/utils/py_utils.cc:38] TF-TRT Warning: Could not find TensorRT\n"
     ]
    }
   ],
   "source": [
    "import sys\n",
    "import pandas as pd\n",
    "from tqdm import tqdm\n",
    "from gensim.models.coherencemodel import CoherenceModel\n",
    "from gensim.corpora.dictionary import Dictionary\n",
    "import warnings\n",
    "from bertopic import BERTopic\n",
    "from nltk.stem import PorterStemmer\n",
    "from sklearn.feature_extraction.text import CountVectorizer\n",
    "from sentence_transformers import SentenceTransformer\n",
    "from gensim.test.utils import common_corpus, common_dictionary\n",
    "from gensim.models import HdpModel\n",
    "from umap import UMAP\n",
    "import tomotopy as tp\n",
    "import re\n",
    "import time\n",
    "import torch\n",
    "import os\n",
    "os.environ[\"TOKENIZERS_PARALLELISM\"] = \"false\"\n",
    "warnings.filterwarnings('ignore')"
   ]
  },
  {
   "cell_type": "code",
   "execution_count": 2,
   "id": "b23aaef2",
   "metadata": {},
   "outputs": [],
   "source": [
    "class CustomTokenizer:\n",
    "    def __init__(self, tagger):\n",
    "        self.tagger = tagger\n",
    "    def __call__(self, text):\n",
    "        text = re.sub(r'[^a-zA-Z\\s]', '', text.lower())\n",
    "        # Tokenize the text\n",
    "        tokens = text.split()\n",
    "        tokens = [self.tagger.stem(token) for token in tokens if token not in stop_words and len(token)>2]\n",
    "        \n",
    "        return tokens"
   ]
  },
  {
   "cell_type": "code",
   "execution_count": null,
   "id": "36404f8f",
   "metadata": {},
   "outputs": [],
   "source": [
    "# remove stopwords\n",
    "stop_words_file = '../Datasets/stopwords_en.txt'\n",
    "stop_words = set([line.strip() for line in open(stop_words_file, encoding=\"utf-8\").readlines()])\n",
    "\n",
    "def remove_stopwords(words, stop_words):\n",
    "    return [word for word in words if word not in stop_words]"
   ]
  },
  {
   "cell_type": "code",
   "execution_count": null,
   "id": "611d681e",
   "metadata": {},
   "outputs": [],
   "source": [
    "# enter the dataset name\n",
    "dataset_name = 'arxiv'\n",
    "data = pd.read_feather(f'../Datasets/{dataset_name}/{dataset_name}.ftr')\n",
    "texts = [remove_stopwords(text, stop_words) for text in data.words]\n",
    "dictionary = Dictionary(texts)\n",
    "corpus = [dictionary.doc2bow(text) for text in texts]\n",
    "docs = data.document.to_list()"
   ]
  },
  {
   "cell_type": "code",
   "execution_count": null,
   "id": "7f0474db",
   "metadata": {},
   "outputs": [],
   "source": [
    "# train BERTopic\n",
    "def train_bertopic_model(docs):\n",
    "    umap_model = UMAP(n_neighbors=15, n_components=5, \n",
    "                  min_dist=0.0, metric='cosine', random_state=33)\n",
    "    custom_tokenizer = CustomTokenizer(PorterStemmer())\n",
    "    vectorizer = CountVectorizer(tokenizer = custom_tokenizer)\n",
    "    model = BERTopic(\n",
    "     top_n_words=30,\n",
    "     umap_model = umap_model,\n",
    "     vectorizer_model = vectorizer,\n",
    "     ) \n",
    "    topic, prob = model.fit_transform(docs)\n",
    "    model.save(f'../models/{dataset_name}/bertopic')\n",
    "    return model"
   ]
  },
  {
   "cell_type": "code",
   "execution_count": null,
   "id": "994fc60e",
   "metadata": {},
   "outputs": [],
   "source": [
    "# train hLDA\n",
    "def train_hlda_model(texts):\n",
    "    cps = tp.utils.Corpus()\n",
    "    for words in texts:\n",
    "        doc_rm = []\n",
    "        for word in words:\n",
    "            doc_rm.append(word)\n",
    "        cps.add_doc(doc_rm)\n",
    "        \n",
    "    mdl = tp.HLDAModel(tw=tp.TermWeight.ONE, min_df=10, depth=3, corpus=cps)\n",
    "    mdl.train(0)\n",
    "    print('Num docs:', len(mdl.docs), ', Vocab size:', len(mdl.used_vocabs), ', Num words:', mdl.num_words)\n",
    "    print('Removed top words:', mdl.removed_top_words)\n",
    "    print('Training...', file=sys.stderr, flush=True)\n",
    "    \n",
    "    for _ in range(0, 1000, 10):\n",
    "        mdl.train(7)\n",
    "        mdl.train(3, freeze_topics=True)\n",
    "        print('Iteration: {:05}\\tll per word: {:.5f}\\tNum. of topics: {}'.format(mdl.global_step, mdl.ll_per_word, mdl.live_k))\n",
    "\n",
    "    for _ in range(0, 100, 10):\n",
    "        mdl.train(10, freeze_topics=True)\n",
    "        print('Iteration: {:05}\\tll per word: {:.5f}\\tNum. of topics: {}'.format(mdl.global_step, mdl.ll_per_word, mdl.live_k))\n",
    "\n",
    "    mdl.summary(topic_word_top_n=20)\n",
    "    print('Saving...', file=sys.stderr, flush=True)\n",
    "    mdl.save(f'../models/{dataset_name}/hlda.bin', True)"
   ]
  },
  {
   "cell_type": "code",
   "execution_count": null,
   "id": "abb146cc",
   "metadata": {},
   "outputs": [],
   "source": [
    "start_time = time.time()\n",
    "bertopic_model = train_bertopic_model(docs)\n",
    "end_time = time.time()\n",
    "execution_time = end_time - start_time\n",
    "print(\"Execution Time: {:.4f} seconds\".format(execution_time))"
   ]
  },
  {
   "cell_type": "code",
   "execution_count": null,
   "id": "c427a837",
   "metadata": {
    "scrolled": true
   },
   "outputs": [],
   "source": [
    "start_time = time.time()\n",
    "hlda_model = train_hlda_model(texts)\n",
    "end_time = time.time()\n",
    "execution_time = end_time - start_time\n",
    "print(\"Execution Time: {:.4f} seconds\".format(execution_time))\n"
   ]
  }
 ],
 "metadata": {
  "kernelspec": {
   "display_name": "HTM",
   "language": "python",
   "name": "python3"
  },
  "language_info": {
   "codemirror_mode": {
    "name": "ipython",
    "version": 3
   },
   "file_extension": ".py",
   "mimetype": "text/x-python",
   "name": "python",
   "nbconvert_exporter": "python",
   "pygments_lexer": "ipython3",
   "version": "3.8.11"
  }
 },
 "nbformat": 4,
 "nbformat_minor": 5
}
